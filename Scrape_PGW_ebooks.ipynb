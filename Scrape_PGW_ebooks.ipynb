{
 "cells": [
  {
   "cell_type": "code",
   "execution_count": null,
   "metadata": {
    "collapsed": true
   },
   "outputs": [],
   "source": [
    "# wget https://www.gutenberg.org/ebooks/author/783\n",
    "# egrep \"/ebooks/\\d+\" 783 > links1.txt\n",
    "# wget https://www.gutenberg.org/ebooks/author/783?start_index=26\n",
    "# egrep \"/ebooks/\\d+\" 783\\?start_index\\=26  >> links1.txt"
   ]
  },
  {
   "cell_type": "code",
   "execution_count": 33,
   "metadata": {},
   "outputs": [],
   "source": [
    "import re\n",
    "import os\n",
    "\n",
    "with open('links1.txt') as f:\n",
    "    content = f.readlines()\n",
    "    \n",
    "content = [x.strip() for x in content]\n",
    "\n",
    "for line in content:\n",
    "    match = re.search(r'.*\\/(\\d+).*', line)\n",
    "    cmd = 'wget http://www.gutenberg.org/cache/epub/{0}/pg{0}.txt'.format(match.group(1))\n",
    "    os.system(cmd)"
   ]
  },
  {
   "cell_type": "code",
   "execution_count": null,
   "metadata": {
    "collapsed": true
   },
   "outputs": [],
   "source": []
  }
 ],
 "metadata": {
  "kernelspec": {
   "display_name": "Python 2",
   "language": "python",
   "name": "python2"
  },
  "language_info": {
   "codemirror_mode": {
    "name": "ipython",
    "version": 2
   },
   "file_extension": ".py",
   "mimetype": "text/x-python",
   "name": "python",
   "nbconvert_exporter": "python",
   "pygments_lexer": "ipython2",
   "version": "2.7.13"
  }
 },
 "nbformat": 4,
 "nbformat_minor": 2
}
